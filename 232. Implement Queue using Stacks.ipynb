{
 "cells": [
  {
   "cell_type": "code",
   "execution_count": null,
   "metadata": {},
   "outputs": [],
   "source": [
    "class MyQueue:\n",
    "\n",
    "    def __init__(self):\n",
    "        self.queue = []\n",
    "\n",
    "    def push(self, x: int) -> None:\n",
    "        self.queue.insert(0,x)\n",
    "\n",
    "    def pop(self) -> int:\n",
    "        return self.queue.pop()\n",
    "\n",
    "    def peek(self) -> int:\n",
    "        return self.queue[-1]\n",
    "\n",
    "    def empty(self) -> bool:\n",
    "        return False if self.queue else True\n",
    "\n",
    "\n",
    "# Your MyQueue object will be instantiated and called as such:\n",
    "# obj = MyQueue()\n",
    "# obj.push(x)\n",
    "# param_2 = obj.pop()\n",
    "# param_3 = obj.peek()\n",
    "# param_4 = obj.empty()"
   ]
  }
 ],
 "metadata": {
  "language_info": {
   "name": "python"
  },
  "orig_nbformat": 4
 },
 "nbformat": 4,
 "nbformat_minor": 2
}
