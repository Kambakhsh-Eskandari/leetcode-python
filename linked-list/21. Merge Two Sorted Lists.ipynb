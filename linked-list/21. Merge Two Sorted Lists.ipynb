{
 "cells": [
  {
   "cell_type": "code",
   "execution_count": null,
   "metadata": {},
   "outputs": [],
   "source": [
    "# Definition for singly-linked list.\n",
    "# class ListNode:\n",
    "#     def __init__(self, val=0, next=None):\n",
    "#         self.val = val\n",
    "#         self.next = next\n",
    "class Solution:\n",
    "    \n",
    "    def mergeTwoLists(self, list1: Optional[ListNode], list2: Optional[ListNode]) -> Optional[ListNode]:\n",
    "        \n",
    "        \n",
    "        dummy = temp = ListNode(0)\n",
    "        while list1 != None and list2 != None:\n",
    "            if list1.val < list2.val:\n",
    "                temp.next = list1\n",
    "                list1 = list1.next\n",
    "            \n",
    "            else:\n",
    "                temp.next = list2\n",
    "                list2 = list2.next\n",
    "            \n",
    "            temp = temp.next\n",
    "            \n",
    "        temp.next = list1 or list2\n",
    "            \n",
    "        return (dummy.next)"
   ]
  }
 ],
 "metadata": {
  "kernelspec": {
   "display_name": "Python 3.10.5 ('pytorch')",
   "language": "python",
   "name": "python3"
  },
  "language_info": {
   "codemirror_mode": {
    "name": "ipython",
    "version": 3
   },
   "file_extension": ".py",
   "mimetype": "text/x-python",
   "name": "python",
   "nbconvert_exporter": "python",
   "pygments_lexer": "ipython3",
   "version": "3.10.5"
  },
  "orig_nbformat": 4,
  "vscode": {
   "interpreter": {
    "hash": "6f8981240cf5b15badc2a52edb719c5b5a5391b9ca75c545569e5d3d56709d05"
   }
  }
 },
 "nbformat": 4,
 "nbformat_minor": 2
}
